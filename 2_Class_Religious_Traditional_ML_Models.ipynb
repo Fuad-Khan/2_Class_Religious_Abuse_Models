{
  "nbformat": 4,
  "nbformat_minor": 0,
  "metadata": {
    "colab": {
      "provenance": [],
      "mount_file_id": "1fCZWYPZ9CH5DCQUQxKRIllYHdJjOUd9D",
      "authorship_tag": "ABX9TyPy16IWw5vG51I3xI5aZG1+",
      "include_colab_link": true
    },
    "kernelspec": {
      "name": "python3",
      "display_name": "Python 3"
    },
    "language_info": {
      "name": "python"
    }
  },
  "cells": [
    {
      "cell_type": "markdown",
      "metadata": {
        "id": "view-in-github",
        "colab_type": "text"
      },
      "source": [
        "<a href=\"https://colab.research.google.com/github/Fuad-Khan/2_Class_Religious_Abuse_Models/blob/main/2_Class_Religious_Traditional_ML_Models.ipynb\" target=\"_parent\"><img src=\"https://colab.research.google.com/assets/colab-badge.svg\" alt=\"Open In Colab\"/></a>"
      ]
    },
    {
      "cell_type": "markdown",
      "source": [
        "# Logistic Regression"
      ],
      "metadata": {
        "id": "kbVD_qI346db"
      }
    },
    {
      "cell_type": "code",
      "source": [
        "# Step 1: Import required libraries\n",
        "import pandas as pd\n",
        "from sklearn.model_selection import train_test_split\n",
        "from sklearn.feature_extraction.text import TfidfVectorizer\n",
        "from sklearn.linear_model import LogisticRegression\n",
        "from sklearn.metrics import classification_report, accuracy_score\n",
        "import pickle\n",
        "\n",
        "# Step 2: Load the 2-class dataset\n",
        "file_path = \"/content/drive/MyDrive/Research Paper/Data Preprocessing/2 Class/Cleaned_Labeled_Religious_Comments_Numeric.csv\"\n",
        "df = pd.read_csv(file_path)\n",
        "\n",
        "# Step 3: Define text and label columns\n",
        "text_column = 'comment'\n",
        "label_column = 'label_numeric'  # binary: 0 = Normal, 1 = Religious Abuse\n",
        "\n",
        "# Step 4: Train-test split\n",
        "X = df[text_column].astype(str)\n",
        "y = df[label_column].astype(int)\n",
        "X_train, X_test, y_train, y_test = train_test_split(X, y, test_size=0.2, random_state=42)\n",
        "\n",
        "# Step 5: TF-IDF Vectorization\n",
        "vectorizer = TfidfVectorizer(max_features=5000, stop_words='english')\n",
        "X_train_tfidf = vectorizer.fit_transform(X_train)\n",
        "X_test_tfidf = vectorizer.transform(X_test)\n",
        "\n",
        "# Step 6: Train Logistic Regression for binary\n",
        "model = LogisticRegression(max_iter=1000)\n",
        "model.fit(X_train_tfidf, y_train)\n",
        "\n",
        "# Step 7: Evaluate the model\n",
        "y_pred = model.predict(X_test_tfidf)\n",
        "print(\"✅ Accuracy:\", accuracy_score(y_test, y_pred))\n",
        "print(\"📊 Classification Report:\\n\", classification_report(y_test, y_pred, target_names=['Normal', 'Religious Abuse']))\n",
        "\n",
        "# Step 8: Save the model and vectorizer\n",
        "with open(\"/content/drive/MyDrive/Research Paper/Models/2 Class/Traditional ML Models/Riligious_logistic_model_binary.pkl\", \"wb\") as f:\n",
        "    pickle.dump(model, f)\n",
        "\n",
        "with open(\"/content/drive/MyDrive/Research Paper/Models/2 Class/Traditional ML Models/logistic_tfidf_vectorizer_binary.pkl\", \"wb\") as f:\n",
        "    pickle.dump(vectorizer, f)\n",
        "\n",
        "print(\"✅ Binary model and vectorizer saved.\")\n"
      ],
      "metadata": {
        "colab": {
          "base_uri": "https://localhost:8080/"
        },
        "id": "3cE2MXoi4-G6",
        "outputId": "46de4abb-c8ec-4803-8345-58628681befd"
      },
      "execution_count": 8,
      "outputs": [
        {
          "output_type": "stream",
          "name": "stdout",
          "text": [
            "✅ Accuracy: 0.7972972972972973\n",
            "📊 Classification Report:\n",
            "                  precision    recall  f1-score   support\n",
            "\n",
            "         Normal       0.82      0.91      0.86      3648\n",
            "Religious Abuse       0.71      0.53      0.61      1532\n",
            "\n",
            "       accuracy                           0.80      5180\n",
            "      macro avg       0.77      0.72      0.74      5180\n",
            "   weighted avg       0.79      0.80      0.79      5180\n",
            "\n",
            "✅ Binary model and vectorizer saved.\n"
          ]
        }
      ]
    },
    {
      "cell_type": "markdown",
      "source": [
        "# SVM"
      ],
      "metadata": {
        "id": "xxGLJO6Z5kVx"
      }
    },
    {
      "cell_type": "code",
      "source": [
        "# Step 1: Install required library for saving model\n",
        "!pip install -q joblib\n",
        "\n",
        "# Step 2: Import libraries\n",
        "import pandas as pd\n",
        "from sklearn.model_selection import train_test_split\n",
        "from sklearn.feature_extraction.text import TfidfVectorizer\n",
        "from sklearn.svm import SVC\n",
        "from sklearn.metrics import classification_report, accuracy_score\n",
        "import joblib\n",
        "\n",
        "# Step 3: Load the dataset\n",
        "file_path = \"/content/drive/MyDrive/Research Paper/Data Preprocessing/2 Class/Cleaned_Labeled_Religious_Comments_Numeric.csv\"\n",
        "df = pd.read_csv(file_path)\n",
        "\n",
        "# Optional: Check for label consistency\n",
        "print(\"✅ Label Classes:\", df['label_numeric'].unique())\n",
        "\n",
        "# Step 4: Define feature and numeric label columns\n",
        "X = df['comment'].astype(str)\n",
        "y = df['label_numeric'].astype(int)\n",
        "\n",
        "# Step 5: Split into training and testing sets\n",
        "X_train, X_test, y_train, y_test = train_test_split(X, y, test_size=0.2, random_state=42)\n",
        "\n",
        "# Step 6: TF-IDF vectorization\n",
        "vectorizer = TfidfVectorizer(max_features=5000, stop_words='english')\n",
        "X_train_tfidf = vectorizer.fit_transform(X_train)\n",
        "X_test_tfidf = vectorizer.transform(X_test)\n",
        "\n",
        "# Step 7: Train SVM model (binary classification with linear kernel)\n",
        "svm_model = SVC(kernel='linear')  # Binary classifier\n",
        "svm_model.fit(X_train_tfidf, y_train)\n",
        "\n",
        "# Step 8: Evaluate model\n",
        "y_pred = svm_model.predict(X_test_tfidf)\n",
        "print(\"✅ Accuracy:\", accuracy_score(y_test, y_pred))\n",
        "print(\"✅ Classification Report:\\n\", classification_report(y_test, y_pred, target_names=['Normal', 'Religious Abuse']))\n",
        "\n",
        "# Step 9: Save model and vectorizer\n",
        "joblib.dump(svm_model, '/content/drive/MyDrive/Research Paper/Models/2 Class/Traditional ML Models/Religious_svm_model.joblib')\n",
        "joblib.dump(vectorizer, '/content/drive/MyDrive/Research Paper/Models/2 Class/Traditional ML Models/svm_tfidf_vectorizer.joblib')\n",
        "\n",
        "print(\"🎉 Model saved as 'Religious_svm_model.joblib'\")\n",
        "print(\"🎉 Vectorizer saved as 'svm_tfidf_vectorizer.joblib'\")\n"
      ],
      "metadata": {
        "id": "536gE08u5mg6",
        "colab": {
          "base_uri": "https://localhost:8080/"
        },
        "outputId": "7b9d40f9-9e37-4867-aee4-05dde9f06e46"
      },
      "execution_count": 9,
      "outputs": [
        {
          "output_type": "stream",
          "name": "stdout",
          "text": [
            "✅ Label Classes: [0 1]\n",
            "✅ Accuracy: 0.7974903474903475\n",
            "✅ Classification Report:\n",
            "                  precision    recall  f1-score   support\n",
            "\n",
            "         Normal       0.82      0.91      0.86      3648\n",
            "Religious Abuse       0.71      0.54      0.61      1532\n",
            "\n",
            "       accuracy                           0.80      5180\n",
            "      macro avg       0.77      0.72      0.74      5180\n",
            "   weighted avg       0.79      0.80      0.79      5180\n",
            "\n",
            "🎉 Model saved as 'Religious_svm_model.joblib'\n",
            "🎉 Vectorizer saved as 'svm_tfidf_vectorizer.joblib'\n"
          ]
        }
      ]
    },
    {
      "cell_type": "markdown",
      "source": [
        "# Random Forest model"
      ],
      "metadata": {
        "id": "o55gwjYc7bxv"
      }
    },
    {
      "cell_type": "code",
      "source": [
        "# Step 1: Install joblib (only needed in Colab or if not installed)\n",
        "!pip install -q joblib\n",
        "\n",
        "# Step 2: Import required libraries\n",
        "import pandas as pd\n",
        "from sklearn.model_selection import train_test_split\n",
        "from sklearn.feature_extraction.text import TfidfVectorizer\n",
        "from sklearn.ensemble import RandomForestClassifier\n",
        "from sklearn.metrics import accuracy_score, classification_report, confusion_matrix\n",
        "import joblib\n",
        "import matplotlib.pyplot as plt\n",
        "import seaborn as sns\n",
        "\n",
        "# Step 3: Load dataset\n",
        "file_path = \"/content/drive/MyDrive/Research Paper/Data Preprocessing/2 Class/Cleaned_Labeled_Religious_Comments_Numeric.csv\"\n",
        "df = pd.read_csv(file_path)\n",
        "\n",
        "# Step 4: Filter to only 2 classes if needed (0 = Normal, 1 = Religious Abuse)\n",
        "df = df[df['label_numeric'].isin([0, 1])]  # ✅ Ensure binary classification\n",
        "\n",
        "# Step 5: Define columns\n",
        "text_column = 'comment'\n",
        "label_column = 'label_numeric'\n",
        "\n",
        "# Step 6: Split data\n",
        "X = df[text_column].astype(str)\n",
        "y = df[label_column].astype(int)\n",
        "X_train, X_test, y_train, y_test = train_test_split(X, y, test_size=0.2, random_state=42)\n",
        "\n",
        "# Step 7: TF-IDF Vectorization\n",
        "vectorizer = TfidfVectorizer(max_features=5000, stop_words='english')\n",
        "X_train_tfidf = vectorizer.fit_transform(X_train)\n",
        "X_test_tfidf = vectorizer.transform(X_test)\n",
        "\n",
        "# Step 8: Train Random Forest model\n",
        "rf_model = RandomForestClassifier(n_estimators=100, random_state=42)\n",
        "rf_model.fit(X_train_tfidf, y_train)\n",
        "\n",
        "# Step 9: Evaluate model\n",
        "y_pred = rf_model.predict(X_test_tfidf)\n",
        "accuracy = accuracy_score(y_test, y_pred)\n",
        "report = classification_report(y_test, y_pred, target_names=['Normal', 'Religious Abuse'])\n",
        "\n",
        "print(\"✅ Accuracy:\", accuracy)\n",
        "print(\"✅ Classification Report:\\n\", report)\n",
        "\n",
        "# Step 10: Confusion Matrix (optional)\n",
        "conf_mat = confusion_matrix(y_test, y_pred)\n",
        "sns.heatmap(conf_mat, annot=True, fmt='d', cmap='Blues', xticklabels=['Normal', 'Religious Abuse'], yticklabels=['Normal', 'Religious Abuse'])\n",
        "plt.xlabel('Predicted')\n",
        "plt.ylabel('Actual')\n",
        "plt.title('Confusion Matrix')\n",
        "plt.show()\n",
        "\n",
        "# Step 11: Save model and vectorizer\n",
        "model_path = '/content/drive/MyDrive/Research Paper/Models/2 Class/Traditional ML Models/RF_religious_abuse_model.joblib'\n",
        "vectorizer_path = '/content/drive/MyDrive/Research Paper/Models/2 Class/Traditional ML Models/RF_tfidf_vectorizer.joblib'\n",
        "\n",
        "joblib.dump(rf_model, model_path)\n",
        "joblib.dump(vectorizer, vectorizer_path)\n",
        "\n",
        "print(\"✅ Model saved at:\", model_path)\n",
        "print(\"✅ Vectorizer saved at:\", vectorizer_path)\n"
      ],
      "metadata": {
        "colab": {
          "base_uri": "https://localhost:8080/",
          "height": 698
        },
        "id": "4U2Tdz077dVX",
        "outputId": "7860dd4d-e254-4bee-88e3-acfe703a7141"
      },
      "execution_count": 10,
      "outputs": [
        {
          "output_type": "stream",
          "name": "stdout",
          "text": [
            "✅ Accuracy: 0.7915057915057915\n",
            "✅ Classification Report:\n",
            "                  precision    recall  f1-score   support\n",
            "\n",
            "         Normal       0.80      0.93      0.86      3648\n",
            "Religious Abuse       0.74      0.45      0.56      1532\n",
            "\n",
            "       accuracy                           0.79      5180\n",
            "      macro avg       0.77      0.69      0.71      5180\n",
            "   weighted avg       0.78      0.79      0.77      5180\n",
            "\n"
          ]
        },
        {
          "output_type": "display_data",
          "data": {
            "text/plain": [
              "<Figure size 640x480 with 2 Axes>"
            ],
            "image/png": "[encoded data removed]"
          },
          "metadata": {}
        },
        {
          "output_type": "stream",
          "name": "stdout",
          "text": [
            "✅ Model saved at: /content/drive/MyDrive/Research Paper/Models/2 Class/Traditional ML Models/RF_religious_abuse_model.joblib\n",
            "✅ Vectorizer saved at: /content/drive/MyDrive/Research Paper/Models/2 Class/Traditional ML Models/RF_tfidf_vectorizer.joblib\n"
          ]
        }
      ]
    }
  ]
}